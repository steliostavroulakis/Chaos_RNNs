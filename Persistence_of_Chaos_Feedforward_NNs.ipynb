{
  "nbformat": 4,
  "nbformat_minor": 0,
  "metadata": {
    "colab": {
      "name": "Persistence of Chaos - Feedforward NNs.ipynb",
      "provenance": []
    },
    "kernelspec": {
      "name": "python3",
      "display_name": "Python 3"
    },
    "language_info": {
      "name": "python"
    }
  },
  "cells": [
    {
      "cell_type": "code",
      "execution_count": 1,
      "metadata": {
        "id": "3e7NrKrBd30H"
      },
      "outputs": [],
      "source": [
        "# Import Packages\n",
        "import matplotlib.pyplot as plt\n",
        "import numpy as np"
      ]
    },
    {
      "cell_type": "code",
      "source": [
        "# Dense Layer 1\n",
        "class Layer_Dense_In:\n",
        "\n",
        "  # Layer initialization\n",
        "  def __init__(self,n_inputs,n_neurons,variance):\n",
        "    # Initialize weights and biases\n",
        "    self.weights = [[1+variance*np.random.randn(1)[0], 1+variance*np.random.randn(1)[0]]]\n",
        "    self.biases = [[0+variance*np.random.randn(1)[0], -0.5+variance*np.random.randn(1)[0]]]\n",
        "\n",
        "  # Forward pass\n",
        "  def forward(self,inputs):\n",
        "    # Calculate output values from inputs, weights and biases\n",
        "    self.output = np.dot(inputs, self.weights) + self.biases\n",
        "\n",
        "\n",
        "# Dense Layer 2\n",
        "class Layer_Dense_Out:\n",
        "  # Layer initialization\n",
        "  def __init__(self,n_inputs,n_neurons,variance):\n",
        "    # Initialize weights and biases\n",
        "    self.weights = [[2+variance*np.random.randn(1)[0]],[-4+variance*np.random.randn(1)[0]]]\n",
        "    self.biases = [[0+variance*np.random.randn(1)[0]]]\n",
        "\n",
        "  # Forward pass\n",
        "  def forward(self,inputs):\n",
        "    # Calculate output values from inputs, weights and biases\n",
        "    self.output = np.dot(inputs, self.weights) + self.biases"
      ],
      "metadata": {
        "id": "JPuv3ulaePI1"
      },
      "execution_count": 9,
      "outputs": []
    },
    {
      "cell_type": "code",
      "source": [
        "# ReLU activation\n",
        "class Activation_ReLU:\n",
        "\n",
        "  # Forward pass\n",
        "  def forward(self,inputs):\n",
        "    # Calculate output values from inputs\n",
        "    self.output = np.maximum(0,inputs)"
      ],
      "metadata": {
        "id": "DdckGOkehIr1"
      },
      "execution_count": 10,
      "outputs": []
    },
    {
      "cell_type": "code",
      "source": [
        "# Data Flow at every level\n",
        "\n",
        "def Forward_Pass(input,pos):\n",
        "\n",
        "  layer_dict_in[pos].forward(input)\n",
        "  layer_dict_act1[pos].forward(layer_dict_in[pos].output)\n",
        "  layer_dict_out[pos].forward(layer_dict_act1[pos].output)\n",
        "  layer_dict_act2[pos].forward(layer_dict_out[pos].output)\n",
        "\n",
        "  return layer_dict_out[pos].output[0][0]"
      ],
      "metadata": {
        "id": "Lgcwpk1NFgyw"
      },
      "execution_count": 39,
      "outputs": []
    },
    {
      "cell_type": "code",
      "source": [
        "# Main Loop - Mapping of [0,1] -> [0,1]\n",
        "\n",
        "# Initialization parameters:\n",
        "# * Network Depth\n",
        "# * Variance\n",
        "# * Image Resolution\n",
        "\n",
        "layer_dict_in, layer_dict_out, layer_dict_act1, layer_dict_act2 = dict(), dict(), dict(), dict()\n",
        "\n",
        "depth = 6\n",
        "variance = 0.1\n",
        "\n",
        "X_granularity = 12587\n",
        "test_X = np.linspace(0,1,num=X_granularity, endpoint=True)\n",
        "test_X_plot = np.linspace(0,1,num=X_granularity, endpoint=True)\n",
        " \n",
        "# Layer Initialization\n",
        "for i in range(depth):\n",
        "  layer_dict_in[i] = Layer_Dense_In(1,2,variance)\n",
        "  layer_dict_out[i] = Layer_Dense_Out(2,1,variance)\n",
        "  layer_dict_act1[i] = Activation_ReLU()\n",
        "  layer_dict_act2[i] = Activation_ReLU()\n",
        "\n",
        "# Function calculation\n",
        "for iter in range(len(test_X)):\n",
        "  for pos in range(depth):\n",
        "    test_X_plot[iter] = Forward_Pass(test_X_plot[iter],pos)\n",
        "\n",
        "# Plots\n",
        "\n",
        "#plt.figure(dpi=600)\n",
        "plt.plot(test_X,test_X_plot,linewidth=1,c='mediumblue')\n",
        "plt.show()"
      ],
      "metadata": {
        "colab": {
          "base_uri": "https://localhost:8080/",
          "height": 265
        },
        "id": "TAdyqqjg0ytx",
        "outputId": "15a9f49e-1315-482d-b7ac-3a4259b5cb6f"
      },
      "execution_count": 103,
      "outputs": [
        {
          "output_type": "display_data",
          "data": {
            "image/png": "[encoded data removed]",
            "text/plain": [
              "<Figure size 432x288 with 1 Axes>"
            ]
          },
          "metadata": {
            "needs_background": "light"
          }
        }
      ]
    },
    {
      "cell_type": "code",
      "source": [
        "# Run this cell to save the weights and biases of the network\n",
        "\n",
        "import pickle\n",
        "\n",
        "with open('weights1.pickle', 'wb') as handle:\n",
        "    pickle.dump(layer_dict_in, handle, protocol=pickle.HIGHEST_PROTOCOL)\n",
        "\n",
        "with open('weights2.pickle', 'wb') as handle:\n",
        "    pickle.dump(layer_dict_out, handle, protocol=pickle.HIGHEST_PROTOCOL)"
      ],
      "metadata": {
        "id": "FUiTdztvV3Qq"
      },
      "execution_count": 85,
      "outputs": []
    },
    {
      "cell_type": "code",
      "source": [
        "# Run this cell to load the weights and biases of the network\n",
        "\n",
        "with open('weights1.pickle', 'rb') as handle:\n",
        "    layer_dict_in = pickle.load(handle)\n",
        "\n",
        "with open('weights2.pickle', 'rb') as handle:\n",
        "    layer_dict_out = pickle.load(handle)"
      ],
      "metadata": {
        "id": "6Mw81g5aXkAf"
      },
      "execution_count": null,
      "outputs": []
    }
  ]
}